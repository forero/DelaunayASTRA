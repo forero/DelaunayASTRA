{
 "cells": [
  {
   "cell_type": "code",
   "execution_count": 37,
   "id": "f0c6af95-dda5-4742-8022-9cc7e22f3ecb",
   "metadata": {},
   "outputs": [],
   "source": [
    "import numpy as np\n",
    "import matplotlib.pyplot as plt\n",
    "import pandas as pd"
   ]
  },
  {
   "cell_type": "code",
   "execution_count": 78,
   "id": "fd27eb26-9f9a-4192-9994-519f5af97743",
   "metadata": {},
   "outputs": [],
   "source": [
    "void_data_85 = pd.read_csv('../py/void_SDSS_85.csv')\n",
    "void_data_90 = pd.read_csv('../py/void_SDSS_90.csv')\n",
    "void_data_tcw = pd.read_csv('../py/void_random_001_fof_xyz_mass_200Mpc512.txt')"
   ]
  },
  {
   "cell_type": "code",
   "execution_count": 79,
   "id": "888e913f-ffb7-4ae4-81cc-7786d22cc572",
   "metadata": {},
   "outputs": [
    {
     "data": {
      "text/plain": [
       "[]"
      ]
     },
     "execution_count": 79,
     "metadata": {},
     "output_type": "execute_result"
    },
    {
     "data": {
      "image/png": "[encoded data removed]",
      "text/plain": [
       "<Figure size 432x288 with 1 Axes>"
      ]
     },
     "metadata": {
      "needs_background": "light"
     },
     "output_type": "display_data"
    }
   ],
   "source": [
    "plt.scatter(void_data_85['N'], void_data_85['SIGMA_R'])\n",
    "plt.scatter(void_data_90['N'], void_data_90['SIGMA_R'])\n",
    "plt.scatter(void_data_tcw['N'], void_data_tcw['SIGMA_R'])\n",
    "\n",
    "plt.loglog()"
   ]
  },
  {
   "cell_type": "code",
   "execution_count": 80,
   "id": "0370228d-9ce1-4b97-be9a-25451a88a148",
   "metadata": {},
   "outputs": [
    {
     "data": {
      "image/png": "[encoded data removed]",
      "text/plain": [
       "<Figure size 432x288 with 1 Axes>"
      ]
     },
     "metadata": {
      "needs_background": "light"
     },
     "output_type": "display_data"
    }
   ],
   "source": [
    "ii = void_data_85['N']>0\n",
    "_ = plt.hist(void_data_85['SIGMA_R'][ii], log=True, bins=20)\n",
    "\n",
    "ii = void_data_90['N']>0\n",
    "_ = plt.hist(void_data_90['SIGMA_R'][ii], log=True, bins=20)\n",
    "\n",
    "ii = void_data_tcw['N']>0\n",
    "_ = plt.hist(void_data_tcw['SIGMA_R'][ii]/0.7, log=True, bins=20, alpha=0.5)"
   ]
  },
  {
   "cell_type": "code",
   "execution_count": 88,
   "id": "958b6175-994a-41c7-bf5f-a32823903f6d",
   "metadata": {},
   "outputs": [
    {
     "data": {
      "text/plain": [
       "array('[-0.52494277  0.48359495  0.70040775]', dtype='<U37')"
      ]
     },
     "execution_count": 88,
     "metadata": {},
     "output_type": "execute_result"
    }
   ],
   "source": [
    "n_points = len(void_data_tcw)\n",
    "eigen_1 = np.ones((n_points,3))\n",
    "for i in range(n_points):\n",
    "    eigen_1[i] = np.fromstring(void_data_tcw['EIGEN_1'][i][1:-1], sep=' ')\n",
    "\n",
    "np.array(void_data_90['EIGEN_1'][0])"
   ]
  },
  {
   "cell_type": "code",
   "execution_count": 96,
   "id": "51c84b46-5081-4fe8-9c99-a00fb9610947",
   "metadata": {},
   "outputs": [
    {
     "data": {
      "text/plain": [
       "(array([27., 26., 30., 26., 23., 27., 23., 37., 25., 31.]),\n",
       " array([4.5581963e-04, 1.0035787e-01, 2.0025992e-01, 3.0016197e-01,\n",
       "        4.0006402e-01, 4.9996607e-01, 5.9986812e-01, 6.9977017e-01,\n",
       "        7.9967222e-01, 8.9957427e-01, 9.9947632e-01]),\n",
       " <BarContainer object of 10 artists>)"
      ]
     },
     "execution_count": 96,
     "metadata": {},
     "output_type": "execute_result"
    },
    {
     "data": {
      "image/png": "[encoded data removed]",
      "text/plain": [
       "<Figure size 432x288 with 1 Axes>"
      ]
     },
     "metadata": {
      "needs_background": "light"
     },
     "output_type": "display_data"
    }
   ],
   "source": [
    "ii = void_data_tcw['N']>10\n",
    "plt.hist(np.abs(eigen_1[ii,2]))"
   ]
  },
  {
   "cell_type": "code",
   "execution_count": 61,
   "id": "b34661d5-f4f9-48ad-a103-aa04e8896e8e",
   "metadata": {},
   "outputs": [
    {
     "data": {
      "text/plain": [
       "array([[-0.52494277,  0.48359495,  0.70040775],\n",
       "       [ 0.8232015 ,  0.11393934, -0.55619881],\n",
       "       [-0.91474094,  0.39867984,  0.06560029],\n",
       "       ...,\n",
       "       [ 0.64258803, -0.53058686, -0.55277319],\n",
       "       [ 0.76616833, -0.60176452, -0.22553392],\n",
       "       [ 0.69145939,  0.35065457, -0.63160533]])"
      ]
     },
     "execution_count": 61,
     "metadata": {},
     "output_type": "execute_result"
    }
   ],
   "source": [
    "eigen_1"
   ]
  },
  {
   "cell_type": "code",
   "execution_count": null,
   "id": "e62be25b-8f38-4e9f-8644-f8c2ff35b96f",
   "metadata": {},
   "outputs": [],
   "source": []
  }
 ],
 "metadata": {
  "kernelspec": {
   "display_name": "DESI master",
   "language": "python",
   "name": "desi-master"
  },
  "language_info": {
   "codemirror_mode": {
    "name": "ipython",
    "version": 3
   },
   "file_extension": ".py",
   "mimetype": "text/x-python",
   "name": "python",
   "nbconvert_exporter": "python",
   "pygments_lexer": "ipython3",
   "version": "3.9.7"
  }
 },
 "nbformat": 4,
 "nbformat_minor": 5
}
